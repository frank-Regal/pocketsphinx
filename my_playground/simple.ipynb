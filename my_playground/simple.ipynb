{
 "cells": [
  {
   "cell_type": "markdown",
   "metadata": {},
   "source": [
    "# Simple Speech-To-Text Implementation\n",
    "\n",
    "About:\n",
    "This takes an audio wav file, converts it to a signed integer PCM wav file if it is not already in that format, and then converts the speech to text using pocketsphinx"
   ]
  },
  {
   "cell_type": "code",
   "execution_count": 2,
   "metadata": {},
   "outputs": [],
   "source": [
    "#!/usr/bin/env python3\n",
    "\"\"\"\n",
    "Recognize a single utterance from a WAV file.\n",
    "\n",
    "Supporting other file types is left as an exercise to the reader.\n",
    "\"\"\"\n",
    "\n",
    "# MIT license (c) 2022, see LICENSE for more information.\n",
    "# Author: David Huggins-Daines <dhdaines@gmail.com>\n",
    "\n",
    "from pocketsphinx import Decoder\n",
    "import argparse\n",
    "import wave\n",
    "import sox\n",
    "import os"
   ]
  },
  {
   "cell_type": "code",
   "execution_count": 3,
   "metadata": {},
   "outputs": [],
   "source": [
    "def ConvertToSignedIntPCM(file):\n",
    "    # create a transformer\n",
    "    tfm = sox.Transformer()\n",
    "\n",
    "    # set the output bit depth to 16 bits (for PCM)\n",
    "    tfm.convert(bitdepth=16)\n",
    "    filename, extension = os.path.splitext(file)\n",
    "    out_file = f\"{filename}_s16pcm{extension}\"\n",
    "    \n",
    "    if tfm.build(file, out_file):\n",
    "        encoding = sox.file_info.encoding(out_file)\n",
    "        bitdepth = sox.file_info.bitdepth(out_file)\n",
    "        print(f\"{file} converted successfully\\n'{out_file}' details: \\nencoding: '{encoding}'\\nbitdepth: '{bitdepth}'\")\n",
    "        \n",
    "    else:\n",
    "        print('An error occurred.')\n",
    "        \n",
    "    return out_file"
   ]
  },
  {
   "cell_type": "code",
   "execution_count": 13,
   "metadata": {},
   "outputs": [],
   "source": [
    "audio_file = \"/home/regal/devel/ws_cacti/src/hri_cacti_xr/data/go_right/30x_4mono_10hz/20240218_222152_go_right.wav\"\n",
    "\n",
    "# may need to convert wave file to 16-bit PCM\n",
    "if(sox.file_info.bitdepth(audio_file) != 16):\n",
    "    audio_file = ConvertToSignedIntPCM(audio_file)"
   ]
  },
  {
   "cell_type": "code",
   "execution_count": 14,
   "metadata": {},
   "outputs": [
    {
     "name": "stdout",
     "output_type": "stream",
     "text": [
      "16000.0\n",
      "133440\n",
      "Signed Integer PCM\n"
     ]
    }
   ],
   "source": [
    "print(sox.file_info.sample_rate(audio_file))\n",
    "print(sox.file_info.num_samples(audio_file))\n",
    "print(sox.file_info.encoding(audio_file))\n"
   ]
  },
  {
   "cell_type": "code",
   "execution_count": 15,
   "metadata": {},
   "outputs": [
    {
     "name": "stdout",
     "output_type": "stream",
     "text": [
      "i love it the whole of but\n"
     ]
    }
   ],
   "source": [
    "with wave.open(audio_file, \"rb\") as audio:\n",
    "    decoder = Decoder(samprate=audio.getframerate())\n",
    "    decoder.start_utt()\n",
    "    decoder.process_raw(audio.getfp().read(), full_utt=True)\n",
    "    decoder.end_utt()\n",
    "    print(decoder.hyp().hypstr)"
   ]
  },
  {
   "cell_type": "code",
   "execution_count": null,
   "metadata": {},
   "outputs": [],
   "source": []
  }
 ],
 "metadata": {
  "kernelspec": {
   "display_name": "hri_cacti_py38",
   "language": "python",
   "name": "python3"
  },
  "language_info": {
   "codemirror_mode": {
    "name": "ipython",
    "version": 3
   },
   "file_extension": ".py",
   "mimetype": "text/x-python",
   "name": "python",
   "nbconvert_exporter": "python",
   "pygments_lexer": "ipython3",
   "version": "3.8.18"
  }
 },
 "nbformat": 4,
 "nbformat_minor": 2
}
